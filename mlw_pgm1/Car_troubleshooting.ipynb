{
 "cells": [
  {
   "cell_type": "code",
   "execution_count": 416,
   "metadata": {
    "collapsed": true
   },
   "outputs": [],
   "source": [
    "import pgmpy\n",
    "from pgmpy.factors import TabularCPD"
   ]
  },
  {
   "cell_type": "code",
   "execution_count": 417,
   "metadata": {
    "collapsed": true
   },
   "outputs": [],
   "source": [
    "from pgmpy.models import BayesianModel"
   ]
  },
  {
   "cell_type": "code",
   "execution_count": 418,
   "metadata": {
    "collapsed": false
   },
   "outputs": [],
   "source": [
    "model = BayesianModel()"
   ]
  },
  {
   "cell_type": "code",
   "execution_count": 419,
   "metadata": {
    "collapsed": true
   },
   "outputs": [],
   "source": [
    "model.add_nodes_from(['bt_leakage','bt_state'])"
   ]
  },
  {
   "cell_type": "code",
   "execution_count": 420,
   "metadata": {
    "collapsed": true
   },
   "outputs": [],
   "source": [
    "model.add_edge('bt_leakage','bt_state')"
   ]
  },
  {
   "cell_type": "code",
   "execution_count": 421,
   "metadata": {
    "collapsed": true
   },
   "outputs": [],
   "source": [
    "model.add_nodes_from(['bt_age','bt_state'])\n",
    "model.add_edge('bt_age','bt_state')"
   ]
  },
  {
   "cell_type": "code",
   "execution_count": 422,
   "metadata": {
    "collapsed": true
   },
   "outputs": [],
   "source": [
    "model.add_edge('alternator_broken','bt_charging')"
   ]
  },
  {
   "cell_type": "code",
   "execution_count": 423,
   "metadata": {
    "collapsed": true
   },
   "outputs": [],
   "source": [
    "model.add_edge('fanbelt_broken','bt_charging')"
   ]
  },
  {
   "cell_type": "code",
   "execution_count": 424,
   "metadata": {
    "collapsed": true
   },
   "outputs": [],
   "source": [
    "model.add_edge('bt_state','bt_power_drained')"
   ]
  },
  {
   "cell_type": "code",
   "execution_count": 425,
   "metadata": {
    "collapsed": true
   },
   "outputs": [],
   "source": [
    "model.add_edge('bt_charging','bt_power_drained')"
   ]
  },
  {
   "cell_type": "code",
   "execution_count": 426,
   "metadata": {
    "collapsed": true
   },
   "outputs": [],
   "source": [
    "model.add_edge('bt_power_drained','car_wont_start')"
   ]
  },
  {
   "cell_type": "code",
   "execution_count": 427,
   "metadata": {
    "collapsed": true
   },
   "outputs": [],
   "source": [
    "model.add_edge('fuel_available','car_wont_start')"
   ]
  },
  {
   "cell_type": "code",
   "execution_count": null,
   "metadata": {
    "collapsed": false
   },
   "outputs": [],
   "source": []
  },
  {
   "cell_type": "code",
   "execution_count": 428,
   "metadata": {
    "collapsed": false
   },
   "outputs": [
    {
     "data": {
      "text/plain": [
       "['bt_power_drained',\n",
       " 'fanbelt_broken',\n",
       " 'fuel_available',\n",
       " 'bt_leakage',\n",
       " 'car_wont_start',\n",
       " 'alternator_broken',\n",
       " 'bt_age',\n",
       " 'bt_state',\n",
       " 'bt_charging']"
      ]
     },
     "execution_count": 428,
     "metadata": {},
     "output_type": "execute_result"
    }
   ],
   "source": [
    "model.nodes()"
   ]
  },
  {
   "cell_type": "code",
   "execution_count": 429,
   "metadata": {
    "collapsed": false
   },
   "outputs": [
    {
     "data": {
      "text/plain": [
       "[('bt_power_drained', 'car_wont_start'),\n",
       " ('fanbelt_broken', 'bt_charging'),\n",
       " ('fuel_available', 'car_wont_start'),\n",
       " ('bt_leakage', 'bt_state'),\n",
       " ('alternator_broken', 'bt_charging'),\n",
       " ('bt_age', 'bt_state'),\n",
       " ('bt_state', 'bt_power_drained'),\n",
       " ('bt_charging', 'bt_power_drained')]"
      ]
     },
     "execution_count": 429,
     "metadata": {},
     "output_type": "execute_result"
    }
   ],
   "source": [
    "model.edges()"
   ]
  },
  {
   "cell_type": "code",
   "execution_count": 430,
   "metadata": {
    "collapsed": true
   },
   "outputs": [],
   "source": [
    "cpd_bt_leakage = TabularCPD('bt_leakage',2,[[0.4],[0.6]])"
   ]
  },
  {
   "cell_type": "code",
   "execution_count": 431,
   "metadata": {
    "collapsed": false
   },
   "outputs": [
    {
     "data": {
      "text/html": [
       "<table><caption>TabularCPD for <b>bt_leakage</b></caption><tr><td><b>bt_leakage_0</b></td><td>0.4000</td></tr><tr><td><b>bt_leakage_1</b></td><td>0.6000</td></tr></table>"
      ],
      "text/plain": [
       "<TabularCPD representing P(bt_leakage:2) at 0x7f931bea90d0>"
      ]
     },
     "execution_count": 431,
     "metadata": {},
     "output_type": "execute_result"
    }
   ],
   "source": [
    "cpd_bt_leakage"
   ]
  },
  {
   "cell_type": "code",
   "execution_count": 432,
   "metadata": {
    "collapsed": false
   },
   "outputs": [
    {
     "data": {
      "text/html": [
       "<table><caption>TabularCPD for <b>bt_age</b></caption><tr><td><b>bt_age_0</b></td><td>0.4000</td></tr><tr><td><b>bt_age_1</b></td><td>0.3000</td></tr><tr><td><b>bt_age_2</b></td><td>0.2000</td></tr><tr><td><b>bt_age_3</b></td><td>0.1000</td></tr></table>"
      ],
      "text/plain": [
       "<TabularCPD representing P(bt_age:4) at 0x7f931bea9190>"
      ]
     },
     "execution_count": 432,
     "metadata": {},
     "output_type": "execute_result"
    }
   ],
   "source": [
    "cpd_bt_age = TabularCPD('bt_age',4,[[0.4],[0.3],[0.2],[0.1]])\n",
    "cpd_bt_age"
   ]
  },
  {
   "cell_type": "code",
   "execution_count": 433,
   "metadata": {
    "collapsed": false
   },
   "outputs": [
    {
     "data": {
      "text/html": [
       "<table><caption>TabularCPD for <b>alternator_broken</b></caption><tr><td><b>alternator_broken_0</b></td><td>0.2500</td></tr><tr><td><b>alternator_broken_1</b></td><td>0.7500</td></tr></table>"
      ],
      "text/plain": [
       "<TabularCPD representing P(alternator_broken:2) at 0x7f931bea9dd0>"
      ]
     },
     "execution_count": 433,
     "metadata": {},
     "output_type": "execute_result"
    }
   ],
   "source": [
    "cpd_alternator_broken = TabularCPD('alternator_broken',2,[[0.25],[0.75]])\n",
    "cpd_alternator_broken"
   ]
  },
  {
   "cell_type": "code",
   "execution_count": 434,
   "metadata": {
    "collapsed": false
   },
   "outputs": [
    {
     "data": {
      "text/html": [
       "<table><caption>TabularCPD for <b>fanbelt_broken</b></caption><tr><td><b>fanbelt_broken_0</b></td><td>0.4500</td></tr><tr><td><b>fanbelt_broken_1</b></td><td>0.5500</td></tr></table>"
      ],
      "text/plain": [
       "<TabularCPD representing P(fanbelt_broken:2) at 0x7f931beed8d0>"
      ]
     },
     "execution_count": 434,
     "metadata": {},
     "output_type": "execute_result"
    }
   ],
   "source": [
    "cpd_fanbelt_broken = TabularCPD('fanbelt_broken',2,[[0.45],[0.55]])\n",
    "cpd_fanbelt_broken"
   ]
  },
  {
   "cell_type": "code",
   "execution_count": 435,
   "metadata": {
    "collapsed": false
   },
   "outputs": [
    {
     "data": {
      "text/html": [
       "<table><caption>TabularCPD for <b>bt_state</b></caption><tr><td><b>bt_age</b></td><td colspan=2>bt_age_0</td><td colspan=2>bt_age_1</td><td colspan=2>bt_age_2</td><td colspan=2>bt_age_3</td></tr><tr><td><b>bt_leakage</b></td><td colspan=1>bt_leakage_0</td><td colspan=1>bt_leakage_1</td><td colspan=1>bt_leakage_0</td><td colspan=1>bt_leakage_1</td><td colspan=1>bt_leakage_0</td><td colspan=1>bt_leakage_1</td><td colspan=1>bt_leakage_0</td><td colspan=1>bt_leakage_1</td></tr><tr><td><b>bt_state_0</b></td><td>0.9000</td><td>0.8000</td><td>0.7000</td><td>0.6000</td><td>0.7000</td><td>0.6000</td><td>0.2000</td><td>0.1000</td></tr><tr><td><b>bt_state_1</b></td><td>0.1000</td><td>0.2000</td><td>0.3000</td><td>0.4000</td><td>0.3000</td><td>0.4000</td><td>0.8000</td><td>0.9000</td></tr></table>"
      ],
      "text/plain": [
       "<TabularCPD representing P(bt_state:2 | bt_leakage:2, bt_age:4) at 0x7f931beed690>"
      ]
     },
     "execution_count": 435,
     "metadata": {},
     "output_type": "execute_result"
    }
   ],
   "source": [
    "cpd_bt_state = TabularCPD('bt_state',2,[[0.9,0.8,0.7,0.6,0.7,0.6,0.2,0.1],[0.1,0.2,0.3,0.4,0.3,0.4,0.8,0.9]],evidence=['bt_leakage','bt_age'],evidence_card=[2,4])\n",
    "cpd_bt_state"
   ]
  },
  {
   "cell_type": "code",
   "execution_count": 436,
   "metadata": {
    "collapsed": false
   },
   "outputs": [
    {
     "data": {
      "text/html": [
       "<table><caption>TabularCPD for <b>bt_state</b></caption><tr><td><b>bt_leakage</b></td><td colspan=4>bt_leakage_0</td><td colspan=4>bt_leakage_1</td></tr><tr><td><b>bt_age</b></td><td colspan=1>bt_age_0</td><td colspan=1>bt_age_1</td><td colspan=1>bt_age_2</td><td colspan=1>bt_age_3</td><td colspan=1>bt_age_0</td><td colspan=1>bt_age_1</td><td colspan=1>bt_age_2</td><td colspan=1>bt_age_3</td></tr><tr><td><b>bt_state_0</b></td><td>0.9000</td><td>0.8000</td><td>0.7000</td><td>0.6000</td><td>0.7000</td><td>0.6000</td><td>0.2000</td><td>0.1000</td></tr><tr><td><b>bt_state_1</b></td><td>0.1000</td><td>0.2000</td><td>0.3000</td><td>0.4000</td><td>0.3000</td><td>0.4000</td><td>0.8000</td><td>0.9000</td></tr></table>"
      ],
      "text/plain": [
       "<TabularCPD representing P(bt_state:2 | bt_age:4, bt_leakage:2) at 0x7f931beedd50>"
      ]
     },
     "execution_count": 436,
     "metadata": {},
     "output_type": "execute_result"
    }
   ],
   "source": [
    "cpd_bt_state = TabularCPD('bt_state',2,[[0.9,0.8,0.7,0.6,0.7,0.6,0.2,0.1],[0.1,0.2,0.3,0.4,0.3,0.4,0.8,0.9]],evidence=['bt_age','bt_leakage'],evidence_card=[4,2])\n",
    "cpd_bt_state"
   ]
  },
  {
   "cell_type": "code",
   "execution_count": 437,
   "metadata": {
    "collapsed": false
   },
   "outputs": [
    {
     "data": {
      "text/html": [
       "<table><caption>TabularCPD for <b>bt_state</b></caption><tr><td><b>bt_leakage</b></td><td colspan=4>bt_leakage_0</td><td colspan=4>bt_leakage_1</td></tr><tr><td><b>bt_age</b></td><td colspan=1>bt_age_0</td><td colspan=1>bt_age_1</td><td colspan=1>bt_age_2</td><td colspan=1>bt_age_3</td><td colspan=1>bt_age_0</td><td colspan=1>bt_age_1</td><td colspan=1>bt_age_2</td><td colspan=1>bt_age_3</td></tr><tr><td><b>bt_state_0</b></td><td>0.9000</td><td>0.8000</td><td>0.7000</td><td>0.6000</td><td>0.7000</td><td>0.6000</td><td>0.2000</td><td>0.1000</td></tr><tr><td><b>bt_state_1</b></td><td>0.1000</td><td>0.2000</td><td>0.3000</td><td>0.4000</td><td>0.3000</td><td>0.4000</td><td>0.8000</td><td>0.9000</td></tr></table>"
      ],
      "text/plain": [
       "<TabularCPD representing P(bt_state:2 | bt_age:4, bt_leakage:2) at 0x7f931beedd50>"
      ]
     },
     "execution_count": 437,
     "metadata": {},
     "output_type": "execute_result"
    }
   ],
   "source": [
    "cpd_bt_state"
   ]
  },
  {
   "cell_type": "code",
   "execution_count": 438,
   "metadata": {
    "collapsed": false
   },
   "outputs": [
    {
     "data": {
      "text/html": [
       "<table><caption>TabularCPD for <b>bt_charging</b></caption><tr><td><b>fanbelt_broken</b></td><td colspan=2>fanbelt_broken_0</td><td colspan=2>fanbelt_broken_1</td></tr><tr><td><b>alternator_broken</b></td><td colspan=1>alternator_broken_0</td><td colspan=1>alternator_broken_1</td><td colspan=1>alternator_broken_0</td><td colspan=1>alternator_broken_1</td></tr><tr><td><b>bt_charging_0</b></td><td>0.1000</td><td>0.9000</td><td>0.9000</td><td>1.0000</td></tr><tr><td><b>bt_charging_1</b></td><td>0.9000</td><td>0.1000</td><td>0.1000</td><td>0.0000</td></tr></table>"
      ],
      "text/plain": [
       "<TabularCPD representing P(bt_charging:2 | alternator_broken:2, fanbelt_broken:2) at 0x7f931bf57510>"
      ]
     },
     "execution_count": 438,
     "metadata": {},
     "output_type": "execute_result"
    }
   ],
   "source": [
    "cpd_bt_charging = TabularCPD('bt_charging',2,[[0.1,0.9,0.9,1],[0.9,0.1,0.1,0]],evidence=['alternator_broken','fanbelt_broken'],evidence_card=[2,2])\n",
    "cpd_bt_charging"
   ]
  },
  {
   "cell_type": "code",
   "execution_count": 439,
   "metadata": {
    "collapsed": false
   },
   "outputs": [
    {
     "data": {
      "text/html": [
       "<table><caption>TabularCPD for <b>bt_power_drained</b></caption><tr><td><b>bt_charging</b></td><td colspan=2>bt_charging_0</td><td colspan=2>bt_charging_1</td></tr><tr><td><b>bt_state</b></td><td colspan=1>bt_state_0</td><td colspan=1>bt_state_1</td><td colspan=1>bt_state_0</td><td colspan=1>bt_state_1</td></tr><tr><td><b>bt_power_drained_0</b></td><td>0.3000</td><td>1.0000</td><td>0.0000</td><td>0.2000</td></tr><tr><td><b>bt_power_drained_1</b></td><td>0.7000</td><td>0.0000</td><td>1.0000</td><td>0.8000</td></tr></table>"
      ],
      "text/plain": [
       "<TabularCPD representing P(bt_power_drained:2 | bt_state:2, bt_charging:2) at 0x7f931beede10>"
      ]
     },
     "execution_count": 439,
     "metadata": {},
     "output_type": "execute_result"
    }
   ],
   "source": [
    "cpd_bt_power_drained = TabularCPD('bt_power_drained',2,[[0.3,1,0,0.2],[0.7,0,1,0.8]],evidence=['bt_state','bt_charging'],evidence_card=[2,2])\n",
    "cpd_bt_power_drained"
   ]
  },
  {
   "cell_type": "code",
   "execution_count": 440,
   "metadata": {
    "collapsed": false
   },
   "outputs": [
    {
     "data": {
      "text/html": [
       "<table><caption>TabularCPD for <b>car_wont_start</b></caption><tr><td><b>bt_power_drained</b></td><td colspan=2>bt_power_drained_0</td><td colspan=2>bt_power_drained_1</td></tr><tr><td><b>fuel_available</b></td><td colspan=1>fuel_available_0</td><td colspan=1>fuel_available_1</td><td colspan=1>fuel_available_0</td><td colspan=1>fuel_available_1</td></tr><tr><td><b>car_wont_start_0</b></td><td>0.9000</td><td>0.8000</td><td>0.1000</td><td>0.6000</td></tr><tr><td><b>car_wont_start_1</b></td><td>0.1000</td><td>0.2000</td><td>0.9000</td><td>0.4000</td></tr></table>"
      ],
      "text/plain": [
       "<TabularCPD representing P(car_wont_start:2 | fuel_available:2, bt_power_drained:2) at 0x7f931beede50>"
      ]
     },
     "execution_count": 440,
     "metadata": {},
     "output_type": "execute_result"
    }
   ],
   "source": [
    "cpd_car_wont_start= TabularCPD('car_wont_start',2,[[0.9,0.8,0.1,0.6],[0.1,0.2,0.9,0.4]],evidence=['fuel_available','bt_power_drained'],evidence_card=[2,2])\n",
    "cpd_car_wont_start"
   ]
  },
  {
   "cell_type": "code",
   "execution_count": 441,
   "metadata": {
    "collapsed": false
   },
   "outputs": [
    {
     "data": {
      "text/html": [
       "<table><caption>TabularCPD for <b>fuel_available</b></caption><tr><td><b>fuel_available_0</b></td><td>0.5000</td></tr><tr><td><b>fuel_available_1</b></td><td>0.5000</td></tr></table>"
      ],
      "text/plain": [
       "<TabularCPD representing P(fuel_available:2) at 0x7f931bea91d0>"
      ]
     },
     "execution_count": 441,
     "metadata": {},
     "output_type": "execute_result"
    }
   ],
   "source": [
    "cpd_fuel_available = TabularCPD('fuel_available',2,[[0.5],[0.5]])\n",
    "cpd_fuel_available"
   ]
  },
  {
   "cell_type": "code",
   "execution_count": 442,
   "metadata": {
    "collapsed": false
   },
   "outputs": [],
   "source": [
    "model.add_cpds(cpd_fanbelt_broken)"
   ]
  },
  {
   "cell_type": "code",
   "execution_count": 443,
   "metadata": {
    "collapsed": false
   },
   "outputs": [],
   "source": [
    "model.add_cpds(cpd_alternator_broken)"
   ]
  },
  {
   "cell_type": "code",
   "execution_count": 444,
   "metadata": {
    "collapsed": false
   },
   "outputs": [],
   "source": [
    "model.add_cpds(cpd_bt_charging)"
   ]
  },
  {
   "cell_type": "code",
   "execution_count": 445,
   "metadata": {
    "collapsed": false
   },
   "outputs": [
    {
     "data": {
      "text/plain": [
       "[<TabularCPD representing P(fanbelt_broken:2) at 0x7f931beed8d0>,\n",
       " <TabularCPD representing P(alternator_broken:2) at 0x7f931bea9dd0>,\n",
       " <TabularCPD representing P(bt_charging:2 | alternator_broken:2, fanbelt_broken:2) at 0x7f931bf57510>]"
      ]
     },
     "execution_count": 445,
     "metadata": {},
     "output_type": "execute_result"
    }
   ],
   "source": [
    "model.get_cpds()"
   ]
  },
  {
   "cell_type": "code",
   "execution_count": 446,
   "metadata": {
    "collapsed": false
   },
   "outputs": [],
   "source": [
    "model.add_cpds(cpd_bt_leakage,cpd_bt_age,cpd_bt_state)"
   ]
  },
  {
   "cell_type": "code",
   "execution_count": 447,
   "metadata": {
    "collapsed": false
   },
   "outputs": [
    {
     "data": {
      "text/plain": [
       "[<TabularCPD representing P(fanbelt_broken:2) at 0x7f931beed8d0>,\n",
       " <TabularCPD representing P(alternator_broken:2) at 0x7f931bea9dd0>,\n",
       " <TabularCPD representing P(bt_charging:2 | alternator_broken:2, fanbelt_broken:2) at 0x7f931bf57510>,\n",
       " <TabularCPD representing P(bt_leakage:2) at 0x7f931bea90d0>,\n",
       " <TabularCPD representing P(bt_age:4) at 0x7f931bea9190>,\n",
       " <TabularCPD representing P(bt_state:2 | bt_age:4, bt_leakage:2) at 0x7f931beedd50>]"
      ]
     },
     "execution_count": 447,
     "metadata": {},
     "output_type": "execute_result"
    }
   ],
   "source": [
    "model.get_cpds()"
   ]
  },
  {
   "cell_type": "code",
   "execution_count": 448,
   "metadata": {
    "collapsed": false
   },
   "outputs": [],
   "source": [
    "model.add_cpds(cpd_bt_power_drained,cpd_car_wont_start,cpd_fuel_available)"
   ]
  },
  {
   "cell_type": "code",
   "execution_count": 449,
   "metadata": {
    "collapsed": false
   },
   "outputs": [
    {
     "data": {
      "text/plain": [
       "[<TabularCPD representing P(fanbelt_broken:2) at 0x7f931beed8d0>,\n",
       " <TabularCPD representing P(alternator_broken:2) at 0x7f931bea9dd0>,\n",
       " <TabularCPD representing P(bt_charging:2 | alternator_broken:2, fanbelt_broken:2) at 0x7f931bf57510>,\n",
       " <TabularCPD representing P(bt_leakage:2) at 0x7f931bea90d0>,\n",
       " <TabularCPD representing P(bt_age:4) at 0x7f931bea9190>,\n",
       " <TabularCPD representing P(bt_state:2 | bt_age:4, bt_leakage:2) at 0x7f931beedd50>,\n",
       " <TabularCPD representing P(bt_power_drained:2 | bt_state:2, bt_charging:2) at 0x7f931beede10>,\n",
       " <TabularCPD representing P(car_wont_start:2 | fuel_available:2, bt_power_drained:2) at 0x7f931beede50>,\n",
       " <TabularCPD representing P(fuel_available:2) at 0x7f931bea91d0>]"
      ]
     },
     "execution_count": 449,
     "metadata": {},
     "output_type": "execute_result"
    }
   ],
   "source": [
    "model.get_cpds()"
   ]
  },
  {
   "cell_type": "code",
   "execution_count": 450,
   "metadata": {
    "collapsed": false
   },
   "outputs": [
    {
     "data": {
      "text/plain": [
       "True"
      ]
     },
     "execution_count": 450,
     "metadata": {},
     "output_type": "execute_result"
    }
   ],
   "source": [
    "model.check_model()"
   ]
  },
  {
   "cell_type": "code",
   "execution_count": 451,
   "metadata": {
    "collapsed": false
   },
   "outputs": [
    {
     "data": {
      "text/plain": [
       "True"
      ]
     },
     "execution_count": 451,
     "metadata": {},
     "output_type": "execute_result"
    }
   ],
   "source": [
    "model.is_active_trail('bt_age','bt_state')"
   ]
  },
  {
   "cell_type": "code",
   "execution_count": 452,
   "metadata": {
    "collapsed": false
   },
   "outputs": [
    {
     "data": {
      "text/plain": [
       "True"
      ]
     },
     "execution_count": 452,
     "metadata": {},
     "output_type": "execute_result"
    }
   ],
   "source": [
    "model.is_active_trail('bt_leakage','bt_state')"
   ]
  },
  {
   "cell_type": "code",
   "execution_count": 453,
   "metadata": {
    "collapsed": false
   },
   "outputs": [
    {
     "data": {
      "text/plain": [
       "True"
      ]
     },
     "execution_count": 453,
     "metadata": {},
     "output_type": "execute_result"
    }
   ],
   "source": [
    "model.is_active_trail('bt_leakage','bt_age',observed='bt_state')"
   ]
  },
  {
   "cell_type": "code",
   "execution_count": 454,
   "metadata": {
    "collapsed": true
   },
   "outputs": [],
   "source": [
    "from pgmpy.inference import VariableElimination"
   ]
  },
  {
   "cell_type": "code",
   "execution_count": 455,
   "metadata": {
    "collapsed": false
   },
   "outputs": [],
   "source": [
    "car_starting = VariableElimination(model)"
   ]
  },
  {
   "cell_type": "code",
   "execution_count": 456,
   "metadata": {
    "collapsed": false
   },
   "outputs": [
    {
     "data": {
      "text/plain": [
       "['bt_power_drained',\n",
       " 'fanbelt_broken',\n",
       " 'fuel_available',\n",
       " 'bt_leakage',\n",
       " 'car_wont_start',\n",
       " 'alternator_broken',\n",
       " 'bt_age',\n",
       " 'bt_state',\n",
       " 'bt_charging']"
      ]
     },
     "execution_count": 456,
     "metadata": {},
     "output_type": "execute_result"
    }
   ],
   "source": [
    "model.nodes()"
   ]
  },
  {
   "cell_type": "code",
   "execution_count": 457,
   "metadata": {
    "collapsed": false
   },
   "outputs": [
    {
     "data": {
      "text/plain": [
       "[<TabularCPD representing P(fanbelt_broken:2) at 0x7f931beed8d0>,\n",
       " <TabularCPD representing P(alternator_broken:2) at 0x7f931bea9dd0>,\n",
       " <TabularCPD representing P(bt_charging:2 | alternator_broken:2, fanbelt_broken:2) at 0x7f931bf57510>,\n",
       " <TabularCPD representing P(bt_leakage:2) at 0x7f931bea90d0>,\n",
       " <TabularCPD representing P(bt_age:4) at 0x7f931bea9190>,\n",
       " <TabularCPD representing P(bt_state:2 | bt_age:4, bt_leakage:2) at 0x7f931beedd50>,\n",
       " <TabularCPD representing P(bt_power_drained:2 | bt_state:2, bt_charging:2) at 0x7f931beede10>,\n",
       " <TabularCPD representing P(car_wont_start:2 | fuel_available:2, bt_power_drained:2) at 0x7f931beede50>,\n",
       " <TabularCPD representing P(fuel_available:2) at 0x7f931bea91d0>]"
      ]
     },
     "execution_count": 457,
     "metadata": {},
     "output_type": "execute_result"
    }
   ],
   "source": [
    "model.get_cpds()"
   ]
  },
  {
   "cell_type": "code",
   "execution_count": 458,
   "metadata": {
    "collapsed": false
   },
   "outputs": [
    {
     "data": {
      "text/plain": [
       "0.550561797752809"
      ]
     },
     "execution_count": 458,
     "metadata": {},
     "output_type": "execute_result"
    }
   ],
   "source": [
    "car_starting.max_marginal(variables=['car_wont_start'])"
   ]
  },
  {
   "cell_type": "code",
   "execution_count": 459,
   "metadata": {
    "collapsed": false
   },
   "outputs": [
    {
     "data": {
      "text/plain": [
       "0.90000000000000002"
      ]
     },
     "execution_count": 459,
     "metadata": {},
     "output_type": "execute_result"
    }
   ],
   "source": [
    "car_starting.max_marginal(variables=['car_wont_start'], evidence = {'bt_power_drained':1,'fuel_available':0})"
   ]
  },
  {
   "cell_type": "code",
   "execution_count": 460,
   "metadata": {
    "collapsed": false
   },
   "outputs": [
    {
     "data": {
      "text/plain": [
       "{'car_wont_start': 1}"
      ]
     },
     "execution_count": 460,
     "metadata": {},
     "output_type": "execute_result"
    }
   ],
   "source": [
    "car_starting.map_query(variables=['car_wont_start'], evidence = {'bt_power_drained':1,'fuel_available':0})"
   ]
  },
  {
   "cell_type": "code",
   "execution_count": 461,
   "metadata": {
    "collapsed": false
   },
   "outputs": [
    {
     "data": {
      "text/plain": [
       "{'car_wont_start': 0}"
      ]
     },
     "execution_count": 461,
     "metadata": {},
     "output_type": "execute_result"
    }
   ],
   "source": [
    "car_starting.map_query(variables=['car_wont_start'], evidence = {'bt_power_drained':0,'fuel_available':1})"
   ]
  },
  {
   "cell_type": "code",
   "execution_count": 462,
   "metadata": {
    "collapsed": false
   },
   "outputs": [
    {
     "data": {
      "text/plain": [
       "0.80000000000000004"
      ]
     },
     "execution_count": 462,
     "metadata": {},
     "output_type": "execute_result"
    }
   ],
   "source": [
    "car_starting.max_marginal(variables=['car_wont_start'], evidence = {'bt_power_drained':0,'fuel_available':1})"
   ]
  },
  {
   "cell_type": "code",
   "execution_count": 463,
   "metadata": {
    "collapsed": false
   },
   "outputs": [
    {
     "data": {
      "text/plain": [
       "0.53846153846153844"
      ]
     },
     "execution_count": 463,
     "metadata": {},
     "output_type": "execute_result"
    }
   ],
   "source": [
    "car_starting.max_marginal(variables=['bt_leakage'],evidence = {'car_wont_start':1})"
   ]
  },
  {
   "cell_type": "code",
   "execution_count": 464,
   "metadata": {
    "collapsed": false
   },
   "outputs": [
    {
     "data": {
      "text/plain": [
       "0.47191011235955055"
      ]
     },
     "execution_count": 464,
     "metadata": {},
     "output_type": "execute_result"
    }
   ],
   "source": [
    "car_starting.max_marginal(variables=['bt_age'],evidence = {'car_wont_start':1})"
   ]
  },
  {
   "cell_type": "code",
   "execution_count": 465,
   "metadata": {
    "collapsed": false
   },
   "outputs": [
    {
     "data": {
      "text/plain": [
       "0.74038461538461531"
      ]
     },
     "execution_count": 465,
     "metadata": {},
     "output_type": "execute_result"
    }
   ],
   "source": [
    "car_starting.max_marginal(variables=['alternator_broken'],evidence = {'car_wont_start':1})"
   ]
  },
  {
   "cell_type": "code",
   "execution_count": 466,
   "metadata": {
    "collapsed": false
   },
   "outputs": [
    {
     "data": {
      "text/plain": [
       "0.5759162303664922"
      ]
     },
     "execution_count": 466,
     "metadata": {},
     "output_type": "execute_result"
    }
   ],
   "source": [
    "car_starting.max_marginal(variables=['fanbelt_broken'],evidence = {'car_wont_start':1})"
   ]
  },
  {
   "cell_type": "code",
   "execution_count": 467,
   "metadata": {
    "collapsed": false
   },
   "outputs": [
    {
     "data": {
      "text/plain": [
       "0.69230769230769229"
      ]
     },
     "execution_count": 467,
     "metadata": {},
     "output_type": "execute_result"
    }
   ],
   "source": [
    "car_starting.max_marginal(variables=['fuel_available'],evidence = {'car_wont_start':1})"
   ]
  },
  {
   "cell_type": "code",
   "execution_count": 468,
   "metadata": {
    "collapsed": false
   },
   "outputs": [
    {
     "data": {
      "text/plain": [
       "0.71005917159763321"
      ]
     },
     "execution_count": 468,
     "metadata": {},
     "output_type": "execute_result"
    }
   ],
   "source": [
    "car_starting.max_marginal(variables=['car_wont_start'], evidence = {'bt_age':2,'fanbelt_broken':1})"
   ]
  },
  {
   "cell_type": "code",
   "execution_count": 469,
   "metadata": {
    "collapsed": false
   },
   "outputs": [
    {
     "data": {
      "text/plain": [
       "0.76271186440677963"
      ]
     },
     "execution_count": 469,
     "metadata": {},
     "output_type": "execute_result"
    }
   ],
   "source": [
    "car_starting.max_marginal(variables=['car_wont_start'], evidence = {'bt_age':3})"
   ]
  },
  {
   "cell_type": "code",
   "execution_count": 470,
   "metadata": {
    "collapsed": false
   },
   "outputs": [
    {
     "data": {
      "text/plain": [
       "{'car_wont_start': 0}"
      ]
     },
     "execution_count": 470,
     "metadata": {},
     "output_type": "execute_result"
    }
   ],
   "source": [
    "car_starting.map_query(variables=['car_wont_start'], evidence = {'bt_age':3})"
   ]
  },
  {
   "cell_type": "code",
   "execution_count": 472,
   "metadata": {
    "collapsed": false
   },
   "outputs": [
    {
     "data": {
      "text/plain": [
       "0.24100371399144851"
      ]
     },
     "execution_count": 472,
     "metadata": {},
     "output_type": "execute_result"
    }
   ],
   "source": [
    "car_starting.max_marginal(variables=['bt_age','bt_leakage'], evidence = {'bt_charging':1})"
   ]
  },
  {
   "cell_type": "code",
   "execution_count": 474,
   "metadata": {
    "collapsed": false
   },
   "outputs": [
    {
     "data": {
      "text/plain": [
       "0.68627450980392157"
      ]
     },
     "execution_count": 474,
     "metadata": {},
     "output_type": "execute_result"
    }
   ],
   "source": [
    "car_starting.max_marginal(variables=['bt_state'], evidence = {'bt_charging':1})"
   ]
  },
  {
   "cell_type": "code",
   "execution_count": 477,
   "metadata": {
    "collapsed": false
   },
   "outputs": [
    {
     "data": {
      "text/plain": [
       "{'bt_state': 0}"
      ]
     },
     "execution_count": 477,
     "metadata": {},
     "output_type": "execute_result"
    }
   ],
   "source": [
    "car_starting.map_query(variables=['bt_state'], evidence = {'bt_charging':1})"
   ]
  },
  {
   "cell_type": "code",
   "execution_count": 479,
   "metadata": {
    "collapsed": false
   },
   "outputs": [
    {
     "data": {
      "text/plain": [
       "{'bt_age': 0, 'bt_leakage': 1}"
      ]
     },
     "execution_count": 479,
     "metadata": {},
     "output_type": "execute_result"
    }
   ],
   "source": [
    "car_starting.map_query(variables=['bt_age','bt_leakage'], evidence = {'bt_charging':1})"
   ]
  },
  {
   "cell_type": "code",
   "execution_count": 480,
   "metadata": {
    "collapsed": false
   },
   "outputs": [
    {
     "data": {
      "text/plain": [
       "{'bt_age': 0, 'bt_leakage': 1}"
      ]
     },
     "execution_count": 480,
     "metadata": {},
     "output_type": "execute_result"
    }
   ],
   "source": [
    "car_starting.map_query(variables=['bt_age','bt_leakage'], evidence = {'bt_power_drained':1})"
   ]
  }
 ],
 "metadata": {
  "kernelspec": {
   "display_name": "Python 2",
   "language": "python",
   "name": "python2"
  },
  "language_info": {
   "codemirror_mode": {
    "name": "ipython",
    "version": 2
   },
   "file_extension": ".py",
   "mimetype": "text/x-python",
   "name": "python",
   "nbconvert_exporter": "python",
   "pygments_lexer": "ipython2",
   "version": "2.7.10"
  }
 },
 "nbformat": 4,
 "nbformat_minor": 0
}
